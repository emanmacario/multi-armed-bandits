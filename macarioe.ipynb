{
 "cells": [
  {
   "cell_type": "markdown",
   "metadata": {},
   "source": [
    "# COMP90051 Project 2"
   ]
  },
  {
   "cell_type": "code",
   "execution_count": 17,
   "metadata": {
    "collapsed": true
   },
   "outputs": [],
   "source": [
    "# Do not edit. These are the only imports permitted.\n",
    "%matplotlib inline\n",
    "import numpy as np\n",
    "from numpy.linalg import inv\n",
    "import matplotlib.pyplot as plt\n",
    "from abc import ABC, abstractmethod"
   ]
  },
  {
   "cell_type": "markdown",
   "metadata": {},
   "source": [
    "## 1. Implementing ε-Greedy and UCB"
   ]
  },
  {
   "cell_type": "code",
   "execution_count": 18,
   "metadata": {
    "collapsed": true
   },
   "outputs": [],
   "source": [
    "class MAB(ABC):\n",
    "    \"\"\"\n",
    "    Abstract class that represents a multi-armed bandit (MAB)\n",
    "    \"\"\"\n",
    "    \n",
    "    @abstractmethod\n",
    "    def play(self, tround, context):\n",
    "        \"\"\"\n",
    "        Play a round\n",
    "        \n",
    "        Arguments\n",
    "        =========\n",
    "        tround : int\n",
    "            positive integer identifying the round\n",
    "        \n",
    "        context : 1D float array, shape (self.ndims * self.narms), optional\n",
    "            context given to the arms\n",
    "        \n",
    "        Returns\n",
    "        =======\n",
    "        arm : int\n",
    "            the positive integer arm id for this round\n",
    "        \"\"\"\n",
    "    \n",
    "    @abstractmethod\n",
    "    def update(self, arm, reward, context):\n",
    "        \"\"\"\n",
    "        Updates the internal state of the MAB after a play\n",
    "        \n",
    "        Arguments\n",
    "        =========\n",
    "        arm : int\n",
    "            a positive integer arm id in {1, ..., self.narms}\n",
    "        \n",
    "        reward : float\n",
    "            reward received from arm\n",
    "        \n",
    "        context : 1D float array, shape (self.ndims * self.narms), optional\n",
    "            context given to arms\n",
    "        \"\"\""
   ]
  },
  {
   "cell_type": "code",
   "execution_count": 19,
   "metadata": {
    "collapsed": false
   },
   "outputs": [],
   "source": [
    "class EpsGreedy(MAB):\n",
    "    \"\"\"\n",
    "    Epsilon-Greedy multi-armed bandit\n",
    "\n",
    "    Arguments\n",
    "    =========\n",
    "    narms : int\n",
    "        number of arms\n",
    "\n",
    "    epsilon : float\n",
    "        explore probability\n",
    "\n",
    "    Q0 : float, optional\n",
    "        initial value for the arms\n",
    "    \"\"\"\n",
    "    \n",
    "    def __init__(self, narms, epsilon, Q0=np.inf):\n",
    "        self.narms = narms\n",
    "        self.epsilon = epsilon\n",
    "        self.Q = np.full(narms, Q0)                      # Average rewards\n",
    "        self.Q_counts = np.zeros(narms, dtype=np.int64)  # Arm 'pull' counts\n",
    "        self.Q_totals = np.zeros(narms)                  # Total rewards\n",
    "        \n",
    "        \n",
    "    def play(self, tround, context=None):\n",
    "        # Choose to exploit with probability (1-epsilon)\n",
    "        # and to explore with probability epsilon\n",
    "        exploit_arm = np.random.choice(np.argwhere(self.Q == self.Q.max()).flatten())\n",
    "        explore_arm = np.random.randint(self.narms)\n",
    "        if np.random.random_sample() <= self.epsilon:\n",
    "            return explore_arm\n",
    "        else:\n",
    "            return exploit_arm\n",
    "        \n",
    "        \n",
    "    def update(self, arm, reward, context=None):\n",
    "        # Update the average reward for the chosen arm\n",
    "        self.Q_totals[arm-1] += reward\n",
    "        self.Q_counts[arm-1] += 1\n",
    "        for i in range(self.narms):\n",
    "            if self.Q_counts[i] > 0:\n",
    "                self.Q = self.Q_totals[i] / self.Q_counts[i]\n"
   ]
  },
  {
   "cell_type": "code",
   "execution_count": 20,
   "metadata": {
    "collapsed": false
   },
   "outputs": [],
   "source": [
    "class UCB(MAB):\n",
    "    \"\"\"\n",
    "    Upper Confidence Bound (UCB) multi-armed bandit\n",
    "\n",
    "    Arguments\n",
    "    =========\n",
    "    narms : int\n",
    "        number of arms\n",
    "\n",
    "    rho : float\n",
    "        positive real explore-exploit parameter\n",
    "\n",
    "    Q0 : float, optional\n",
    "        initial value for the arms\n",
    "    \"\"\"\n",
    "    \n",
    "    def __init__(self, narms, rho, Q0=np.inf):\n",
    "        self.narms = narms\n",
    "        self.rho = rho\n",
    "        self.Q = np.full(narms, Q0)                      # Average rewards for arms\n",
    "        self.Q_counts = np.zeros(narms, dtype=np.int64)  # Arm 'pull' counts\n",
    "        self.Q_totals = np.zeros(narms)                  # Total rewards for arms\n",
    "        self.tround = 1\n",
    "        \n",
    "    \n",
    "    def play(self, tround, context=None):\n",
    "        self.tround = tround\n",
    "        arm = np.random.choice(np.argwhere(self.Q == self.Q.max()).flatten())\n",
    "        return arm\n",
    "        \n",
    "        \n",
    "    def update(self, arm, reward, context=None):\n",
    "        self.Q_totals[arm-1] += reward\n",
    "        self.Q_counts[arm-1] += 1\n",
    "        for i in range(self.narms):\n",
    "            if self.Q_counts[i] > 0:\n",
    "                self.Q[i] = (self.Q_totals[i] / self.Q_counts[i]) + np.sqrt((self.rho*np.log(self.tround+1)) / self.Q_totals[i])\n",
    "        "
   ]
  },
  {
   "cell_type": "markdown",
   "metadata": {},
   "source": [
    "## 2. The Basic Thompson Bandit"
   ]
  },
  {
   "cell_type": "code",
   "execution_count": 21,
   "metadata": {
    "collapsed": true
   },
   "outputs": [],
   "source": [
    "class BetaThompson(MAB):\n",
    "    \"\"\"\n",
    "    Beta-Bernoulli Thompson sampling multi-armed bandit\n",
    "\n",
    "    Arguments\n",
    "    =========\n",
    "    narms : int\n",
    "        number of arms\n",
    "\n",
    "    alpha0 : float, optional\n",
    "        positive real prior hyperparameter\n",
    "\n",
    "    beta0 : float, optional\n",
    "        positive real prior hyperparameter\n",
    "    \"\"\"\n",
    "    \n",
    "    def __init__(self, narms, alpha0=1.0, beta0=1.0):\n",
    "        self.narms = narms\n",
    "        self.alpha0 = alpha0\n",
    "        self.beta0 = beta0\n",
    "        self.S = np.full(narms, 0)\n",
    "        self.F = np.full(narms, 0)\n",
    "        self.thetas = np.array([np.random.beta(alpha0, beta0) for _ in range(narms)])\n",
    "        \n",
    "        \n",
    "    def play(self, tround, context=None):\n",
    "        # Return the arm which maximises theta\n",
    "        arm = np.argmax(self.thetas)\n",
    "        return arm\n",
    "        \n",
    "        \n",
    "    def update(self, arm, reward, context=None):\n",
    "        # Update the success or fail counts for a given arm,\n",
    "        # then update the corresponding beta distribution\n",
    "        if reward == 1:\n",
    "            self.S[arm-1] += 1\n",
    "        else:\n",
    "            self.F[arm-1] += 1\n",
    "        self.thetas[arm-1] = np.random.beta(self.alpha0+self.S[arm-1], self.beta0+self.F[arm-1])\n"
   ]
  },
  {
   "cell_type": "markdown",
   "metadata": {},
   "source": [
    "## 3. Off-Policy Evaluation"
   ]
  },
  {
   "cell_type": "code",
   "execution_count": 22,
   "metadata": {
    "collapsed": true
   },
   "outputs": [],
   "source": [
    "def offlineEvaluate(mab, arms, rewards, contexts, nrounds=None):\n",
    "    \"\"\"\n",
    "    Offline evaluation of a multi-armed bandit\n",
    "    \n",
    "    Arguments\n",
    "    =========\n",
    "    mab : instance of MAB\n",
    "    \n",
    "    arms : 1D int array, shape (nevents,) \n",
    "        integer arm id for each event\n",
    "    \n",
    "    rewards : 1D float array, shape (nevents,)\n",
    "        reward received for each event\n",
    "    \n",
    "    contexts : 2D float array, shape (nevents, mab.narms*nfeatures)\n",
    "        contexts presented to the arms (stacked horizontally) \n",
    "        for each event.\n",
    "        \n",
    "    nrounds : int, optional\n",
    "        number of matching events to evaluate `mab` on.\n",
    "    \n",
    "    Returns\n",
    "    =======\n",
    "    out : 1D float array\n",
    "        rewards for the matching events\n",
    "    \"\"\"\n",
    "    T = arms.shape[0]\n",
    "    R = []\n",
    "    tround = 1\n",
    "    for i in range(T):\n",
    "        arm = arms[i]\n",
    "        reward = rewards[i]\n",
    "        context = contexts[i]\n",
    "        if mab.play(tround, context) == arm:\n",
    "            R.append(reward)\n",
    "            mab.update(arm, reward, context)\n",
    "            if nrounds is not None and tround >= nrounds:\n",
    "                break\n",
    "            else:\n",
    "                tround += 1\n",
    "            \n",
    "    return np.array(R)\n",
    "    "
   ]
  },
  {
   "cell_type": "code",
   "execution_count": 23,
   "metadata": {
    "collapsed": false
   },
   "outputs": [],
   "source": [
    "# Read the dataset into the respective\n",
    "# arms, rewards and context vectors\n",
    "data = []\n",
    "with open('dataset.txt') as f:\n",
    "    for row in f:\n",
    "        data.append(list(map(int, row.split())))\n",
    "        \n",
    "data = np.array(data)\n",
    "arms = data[:,0]\n",
    "rewards = data[:,1]\n",
    "contexts = data[:,2:]"
   ]
  },
  {
   "cell_type": "code",
   "execution_count": 24,
   "metadata": {
    "collapsed": false
   },
   "outputs": [
    {
     "name": "stdout",
     "output_type": "stream",
     "text": [
      "EpsGreedy average reward 0.047619047619047616\n"
     ]
    }
   ],
   "source": [
    "mab = EpsGreedy(10, 0.05)\n",
    "results_EpsGreedy = offlineEvaluate(mab, arms, rewards, contexts, 800)\n",
    "print('EpsGreedy average reward', np.mean(results_EpsGreedy))"
   ]
  },
  {
   "cell_type": "code",
   "execution_count": 25,
   "metadata": {
    "collapsed": false
   },
   "outputs": [
    {
     "name": "stderr",
     "output_type": "stream",
     "text": [
      "C:\\Users\\emaca\\Anaconda3\\envs\\sml\\lib\\site-packages\\ipykernel_launcher.py:37: RuntimeWarning: divide by zero encountered in double_scalars\n"
     ]
    },
    {
     "name": "stdout",
     "output_type": "stream",
     "text": [
      "UCB average reward 0.165\n"
     ]
    }
   ],
   "source": [
    "mab = UCB(10, 1.0)\n",
    "results_UCB = offlineEvaluate(mab, arms, rewards, contexts, 800)\n",
    "print('UCB average reward', np.mean(results_UCB))"
   ]
  },
  {
   "cell_type": "code",
   "execution_count": 26,
   "metadata": {
    "collapsed": false
   },
   "outputs": [
    {
     "name": "stdout",
     "output_type": "stream",
     "text": [
      "BetaThompson average reward 0.14625\n"
     ]
    }
   ],
   "source": [
    "mab = BetaThompson(10, 1.0, 1.0)\n",
    "results_BetaThompson = offlineEvaluate(mab, arms, rewards, contexts, 800)\n",
    "print('BetaThompson average reward', np.mean(results_BetaThompson))"
   ]
  },
  {
   "cell_type": "markdown",
   "metadata": {},
   "source": [
    "## 4. Contextual Bandits - LinUCB"
   ]
  },
  {
   "cell_type": "code",
   "execution_count": 27,
   "metadata": {
    "collapsed": false
   },
   "outputs": [],
   "source": [
    "class LinUCB(MAB):\n",
    "    \"\"\"\n",
    "    Contextual multi-armed bandit (LinUCB)\n",
    "\n",
    "    Arguments\n",
    "    =========\n",
    "    narms : int\n",
    "        number of arms\n",
    "\n",
    "    ndims : int\n",
    "        number of dimensions for each arm's context\n",
    "\n",
    "    alpha : float\n",
    "        positive real explore-exploit parameter\n",
    "    \"\"\"\n",
    "    \n",
    "    def __init__(self, narms, ndims, alpha):\n",
    "        self.narms = narms\n",
    "        self.ndims = ndims\n",
    "        self.alpha = alpha\n",
    "        self.A = [np.identity(ndims) for _ in range(narms)]\n",
    "        self.b = [np.zeros(ndims).reshape(ndims, 1) for _ in range(narms)]\n",
    "        \n",
    "        \n",
    "    def play(self, tround, context):\n",
    "        theta = [np.dot(inv(self.A[i]), self.b[i]) for i in range(self.narms)]\n",
    "        p = []\n",
    "        for i in range(self.narms):\n",
    "            x_i = context[i*self.ndims: (i+1)*self.ndims].reshape(self.ndims, 1)\n",
    "            p.append(np.dot(theta[i].T, x_i) + self.alpha*np.sqrt(x_i.T @ inv(self.A[i]) @ x_i))\n",
    "        p = np.array(p)\n",
    "        \n",
    "        return np.random.choice(np.argwhere(p == p.max()).flatten())\n",
    "                          \n",
    "        \n",
    "    def update(self, arm, reward, context):\n",
    "        x_i = context[(arm-1)*self.ndims: arm*self.ndims].reshape(self.ndims, 1)\n",
    "        self.A[arm-1] += np.dot(x_i, x_i.T)\n",
    "        self.b[arm-1] += reward*x_i\n",
    "        "
   ]
  },
  {
   "cell_type": "code",
   "execution_count": 28,
   "metadata": {
    "collapsed": false
   },
   "outputs": [
    {
     "name": "stdout",
     "output_type": "stream",
     "text": [
      "LinUCB average reward 0.0\n"
     ]
    }
   ],
   "source": [
    "mab = LinUCB(10, 10, 1.0)\n",
    "results_LinUCB = offlineEvaluate(mab, arms, rewards, contexts, 800)\n",
    "print('LinUCB average reward', np.mean(results_LinUCB))"
   ]
  },
  {
   "cell_type": "markdown",
   "metadata": {},
   "source": [
    "## 5. Contextual Bandits - LinThompson"
   ]
  },
  {
   "cell_type": "code",
   "execution_count": 29,
   "metadata": {
    "collapsed": false
   },
   "outputs": [],
   "source": [
    "class LinThompson(MAB):\n",
    "    \"\"\"\n",
    "    Contextual Thompson sampled multi-armed bandit (LinThompson)\n",
    "\n",
    "    Arguments\n",
    "    =========\n",
    "    narms : int\n",
    "        number of arms\n",
    "\n",
    "    ndims : int\n",
    "        number of dimensions for each arm's context\n",
    "\n",
    "    v : float\n",
    "        positive real explore-exploit parameter\n",
    "    \"\"\"\n",
    "    \n",
    "    def __init__(self, narms, ndims, v):\n",
    "        self.narms = narms\n",
    "        self.ndims = ndims\n",
    "        self.v = v\n",
    "        self.B = np.identity(ndims)\n",
    "        self.mu = np.zeros(ndims).reshape(-1,1)\n",
    "        self.f = np.zeros(ndims).reshape(-1,1)\n",
    "        \n",
    "        \n",
    "    def play(self, tround, context):\n",
    "        mu_tround = np.random.multivariate_normal(self.mu.flatten(), self.v**2*inv(self.B))\n",
    "        b = np.array([context[i*self.ndims: (i+1)*self.ndims] for i in range(self.narms)])\n",
    "        lc = np.array([np.dot(b[i], mu_tround) for i in range(self.narms)])\n",
    "        return np.argmax(lc)\n",
    "        \n",
    "    \n",
    "    def update(self, arm, reward, context):\n",
    "        b_arm = context[(arm-1)*self.ndims: arm*self.ndims].reshape(-1,1)\n",
    "        self.B += np.dot(b_arm, b_arm.T)\n",
    "        self.f += b_arm*reward\n",
    "        self.mu = np.dot(inv(self.B), self.f)\n"
   ]
  },
  {
   "cell_type": "code",
   "execution_count": 30,
   "metadata": {
    "collapsed": false
   },
   "outputs": [
    {
     "name": "stdout",
     "output_type": "stream",
     "text": [
      "LinThompson average reward 0.02375\n"
     ]
    }
   ],
   "source": [
    "mab = LinThompson(10, 10, 1.0)\n",
    "results_LinThompson = offlineEvaluate(mab, arms, rewards, contexts, 800)\n",
    "print('LinThompson average reward', np.mean(results_LinThompson))"
   ]
  },
  {
   "cell_type": "markdown",
   "metadata": {},
   "source": [
    "## 6. Evaluation\n",
    "### 6.A."
   ]
  },
  {
   "cell_type": "code",
   "execution_count": 31,
   "metadata": {
    "collapsed": false
   },
   "outputs": [
    {
     "data": {
      "image/png": "[encoded data removed]",
      "text/plain": [
       "<Figure size 864x648 with 1 Axes>"
      ]
     },
     "metadata": {
      "needs_background": "light"
     },
     "output_type": "display_data"
    },
    {
     "data": {
      "text/plain": [
       "<Figure size 432x288 with 0 Axes>"
      ]
     },
     "metadata": {},
     "output_type": "display_data"
    }
   ],
   "source": [
    "plt.figure(figsize=(12,9))\n",
    "plt.title('Cumulative rewards of MABs after offline evaluation', fontsize=20)\n",
    "plt.xlabel('Round', fontsize=16)\n",
    "plt.ylabel('Cumulative reward', fontsize=16)\n",
    "\n",
    "mab_results = [results_EpsGreedy, results_UCB, results_BetaThompson, results_LinUCB, results_LinThompson]\n",
    "for results in mab_results:\n",
    "    trounds = np.arange(1, len(results)+1)\n",
    "    cumulative_results = np.cumsum(results)\n",
    "    plt.plot(trounds, cumulative_results)\n",
    "\n",
    "plt.legend(['EpsGreedy', 'UCB', 'BetaThompson', 'LinUCB', 'LinThompson'], fontsize=16)\n",
    "plt.show()\n",
    "plt.clf()"
   ]
  },
  {
   "cell_type": "markdown",
   "metadata": {},
   "source": [
    "### 6.B."
   ]
  },
  {
   "cell_type": "markdown",
   "metadata": {
    "collapsed": true
   },
   "source": [
    "How can you optimise hyperparameters? Devise grid-search based strategies to select\n",
    "the α and v hyperparameters in LinUCB and LinThompson, as Python code in your notebook. Output the\n",
    "result of this strategy—which could be a graph, number, etc."
   ]
  },
  {
   "cell_type": "code",
   "execution_count": 32,
   "metadata": {
    "collapsed": false
   },
   "outputs": [
    {
     "name": "stdout",
     "output_type": "stream",
     "text": [
      "Best alpha for LinUCB: 1.8325546111576978\n",
      "LinUCB average reward for alpha: 0.003157960045844132\n"
     ]
    }
   ],
   "source": [
    "# Total number of trials for each alpha or v hyperparameter\n",
    "N_TRIALS = 5\n",
    "\n",
    "# The strategy for grid search is to choose a select few\n",
    "# alpha and v values, and then evaluate the corresponding\n",
    "# MABs using them. Then, we will choose the alpha and v\n",
    "# which maximise the average reward observed\n",
    "\n",
    "# Grid search for alpha for LinUCB\n",
    "deltas = [0.01, 0.1, 0.25, 0.5, 1.0, 2.0]\n",
    "alphas = [1 + np.sqrt(np.log(2/delta)/2) for delta in deltas]\n",
    "\n",
    "results_LinUCB = []\n",
    "for alpha in alphas:\n",
    "    alpha_results = []\n",
    "    for _ in range(N_TRIALS):\n",
    "        mab = LinUCB(10, 10, alpha)\n",
    "        alpha_results.append(np.mean(offlineEvaluate(mab, arms, rewards, contexts, 800)))\n",
    "    results_LinUCB.append(np.mean(alpha_results))\n",
    "\n",
    "results_LinUCB = np.array(results_LinUCB)    \n",
    "best_alpha = alphas[np.argmax(results_LinUCB)]\n",
    "print(\"Best alpha for LinUCB:\", best_alpha)\n",
    "print(\"LinUCB average reward for alpha:\", results_LinUCB[np.argmax(results_LinUCB)])"
   ]
  },
  {
   "cell_type": "code",
   "execution_count": 33,
   "metadata": {
    "collapsed": false
   },
   "outputs": [
    {
     "name": "stdout",
     "output_type": "stream",
     "text": [
      "Best v for LinThompson: 32.18160127815909\n",
      "LinThomspon average reward for v: 0.03179156171284635\n"
     ]
    }
   ],
   "source": [
    "# Grid search for v for LinThompson\n",
    "epsilon = [0.1, 0.5]\n",
    "delta = [0.1, 0.75]\n",
    "R = [1, 10, 100]\n",
    "V = []\n",
    "for e in epsilon:\n",
    "    for d in delta:\n",
    "        for r in R:\n",
    "            V.append(r*np.sqrt((24/e) * d * np.log(1/d)))\n",
    "\n",
    "results_LinThompson = []\n",
    "for v in V:\n",
    "    v_results = []\n",
    "    for _ in range(N_TRIALS):\n",
    "        mab = LinThompson(10, 10, v)\n",
    "        v_results.append(np.mean(offlineEvaluate(mab, arms, rewards, contexts, 800)))\n",
    "    results_LinThompson.append(np.mean(v_results))\n",
    "\n",
    "results_LinThompson = np.array(results_LinThompson)    \n",
    "best_v = V[np.argmax(results_LinThompson)]\n",
    "print(\"Best v for LinThompson:\", best_v)\n",
    "print(\"LinThomspon average reward for v:\", results_LinThompson[np.argmax(results_LinThompson)])"
   ]
  }
 ],
 "metadata": {
  "kernelspec": {
   "display_name": "sml",
   "language": "python",
   "name": "sml"
  },
  "language_info": {
   "codemirror_mode": {
    "name": "ipython",
    "version": 3
   },
   "file_extension": ".py",
   "mimetype": "text/x-python",
   "name": "python",
   "nbconvert_exporter": "python",
   "pygments_lexer": "ipython3",
   "version": "3.6.9"
  }
 },
 "nbformat": 4,
 "nbformat_minor": 2
}
